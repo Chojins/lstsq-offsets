{
 "cells": [
  {
   "cell_type": "markdown",
   "metadata": {},
   "source": [
    "# Machine Offsets from Least Squares"
   ]
  },
  {
   "cell_type": "markdown",
   "metadata": {},
   "source": [
    "This notebook will call an arbor probing part program, then solve for the best fit machine offsets using the probing data.\n",
    "\n",
    "You will need the ruby probe mounted in the collet, and an empty arbor clamped in the spindle."
   ]
  },
  {
   "cell_type": "markdown",
   "metadata": {},
   "source": [
    "## Probing part program"
   ]
  },
  {
   "cell_type": "markdown",
   "metadata": {},
   "source": [
    "Here we will call a part program to probe the arbor in the spindle.\n",
    "\n",
    "    Note: to run the cell use SHIFT + ENTER"
   ]
  },
  {
   "cell_type": "code",
   "execution_count": null,
   "metadata": {},
   "outputs": [],
   "source": [
    "#Run the probing part program synchronously\n",
    "import os.path\n",
    "from amcnc import program\n",
    "\n",
    "status = program.run(os.path.abspath(r'probe_arbor.pp'))"
   ]
  },
  {
   "cell_type": "markdown",
   "metadata": {},
   "source": [
    "## Solver"
   ]
  },
  {
   "cell_type": "markdown",
   "metadata": {},
   "source": [
    "Now that we have a set of probing data, we can use this to solve for the best fit machine offsets.\n",
    "\n",
    "First we will read the output text file and visualise the data with a 3D plot."
   ]
  },
  {
   "cell_type": "code",
   "execution_count": null,
   "metadata": {},
   "outputs": [],
   "source": [
    "import matplotlib.pyplot as plt\n",
    "import numpy as np\n",
    "from numpy import exp, loadtxt, pi, sqrt, sin, cos\n",
    "import scipy\n",
    "from scipy.stats import norm"
   ]
  },
  {
   "cell_type": "code",
   "execution_count": null,
   "metadata": {},
   "outputs": [],
   "source": [
    "#read the measured probing data\n",
    "arbor_data = loadtxt('P:/TG7/misc/arbor_probing_data.txt')\n",
    "\n",
    "x = arbor_data[:, 0]\n",
    "y = arbor_data[:, 1]\n",
    "z = arbor_data[:, 2]\n",
    "a = arbor_data[:, 3]\n",
    "c = arbor_data[:, 4]"
   ]
  },
  {
   "cell_type": "code",
   "execution_count": null,
   "metadata": {
    "scrolled": false
   },
   "outputs": [],
   "source": [
    "%matplotlib notebook\n",
    "from mpl_toolkits.mplot3d import Axes3D\n",
    "\n",
    "Axes3D = Axes3D  # pycharm auto import\n",
    "fig = plt.figure()\n",
    "\n",
    "ax = fig.add_subplot(111, projection='3d')\n",
    "\n",
    "ax.scatter3D(x, y, z)\n",
    "\n",
    "ax.set_xlabel('X (mm)')\n",
    "ax.set_ylabel('Y (mm)')\n",
    "ax.set_zlabel('Z (mm)')"
   ]
  },
  {
   "cell_type": "markdown",
   "metadata": {},
   "source": [
    "Now we will define a function **arbor_and_spindle_face** which models the machine including the parameters of intrest, then we use **scipy.optimize.leastsq** to solve."
   ]
  },
  {
   "cell_type": "code",
   "execution_count": null,
   "metadata": {},
   "outputs": [],
   "source": [
    "def arbor_and_spindle_face(vars, data, num_arbor_pts, ball_radius):\n",
    "    \"\"\"This function uses data from the arbor as well as data from the spindle front face \n",
    "    to solve for all the machine offsets\"\"\"\n",
    "    \n",
    "    ball_runout = vars[0]\n",
    "    ball_runout_angle = vars[1]\n",
    "    arbor_radius = vars[2]\n",
    "    spindle_centerline_offset = vars[3]\n",
    "    x_offset = vars[4]\n",
    "    y_home_offset = vars[5]\n",
    "    z_home_offset = vars[6]\n",
    "    c_home_offset = vars[7]\n",
    "    spindle_ref_position= vars[8]\n",
    "    \n",
    "    x = data[:, 0]\n",
    "    y = data[:, 1]\n",
    "    z = data[:, 2]\n",
    "    a = data[:, 3]\n",
    "    c = data[:, 4]\n",
    "    \n",
    "    error = np.zeros(data.shape[0])\n",
    "\n",
    "    ball_runout_angle_radians = (ball_runout_angle/360.0)*2*pi\n",
    "    c_home_offset_radians = (c_home_offset/360.0)*2*pi\n",
    "    \n",
    "    for i in range(0, data.shape[0]):\n",
    "\n",
    "        a_angle_radians = (a[i]/360.0)*2*pi\n",
    "        \n",
    "        ball_x = x[i] + x_offset\n",
    "        ball_y = y[i] + y_home_offset + ball_runout*sin(a_angle_radians + ball_runout_angle_radians)\n",
    "        ball_z = z[i] + z_home_offset + ball_runout*cos(a_angle_radians + ball_runout_angle_radians)\n",
    "\n",
    "        c_angle_radians = (c[i]/360.0)*2*pi\n",
    "\n",
    "        #find equation of the c-axis vector\n",
    "        ui = -sin(c_angle_radians + c_home_offset_radians)\n",
    "        uj = cos(c_angle_radians + c_home_offset_radians)\n",
    "        uk = 0\n",
    "\n",
    "        #coords of the spindle axis origin\n",
    "        x0 = cos(c_angle_radians + c_home_offset_radians)*(-spindle_centerline_offset)\n",
    "        y0 = sin(c_angle_radians + c_home_offset_radians)*(-spindle_centerline_offset)\n",
    "        z0 = 0\n",
    "        \n",
    "        #find the closest point on the spindle axis\n",
    "        point_x = x0 + ((ball_x-x0)*ui+(ball_y-y0)*uj+(ball_z-z0)*uk)*ui;\n",
    "        point_y = y0 + ((ball_x-x0)*ui+(ball_y-y0)*uj+(ball_z-z0)*uk)*uj;\n",
    "        point_z = z0 + ((ball_x-x0)*ui+(ball_y-y0)*uj+(ball_z-z0)*uk)*uk;\n",
    "        \n",
    "        if i < num_arbor_pts:\n",
    "            #the error for each arbor point is the distance to the closest point on the spindle axis vector, minus the ball and arbor radius\n",
    "            error[i] = np.sqrt(((point_x - ball_x)**2 + (point_y - ball_y)**2 + (point_z - ball_z)**2)) - (ball_radius + arbor_radius)\n",
    "\n",
    "        else:\n",
    "            #the error for each spindle face point: the distance from the closest point on the spindle axis vector to the spindle axis origin\n",
    "            error[i] = np.sqrt(((point_x - x0)**2 + (point_y - y0)**2 + (point_z - z0)**2)) - (-spindle_ref_position - ball_radius)\n",
    "\n",
    "        \n",
    "    return (error)"
   ]
  },
  {
   "cell_type": "code",
   "execution_count": null,
   "metadata": {},
   "outputs": [],
   "source": [
    "#read the operator entered probe diameter\n",
    "#Read and write IPF\n",
    "ipf110 = variable.CncFloat('IPF110')\n",
    "ball_diameter = ipf110.value\n",
    "print('operator entered ball_diameter = ', ball_diameter)\n"
   ]
  },
  {
   "cell_type": "code",
   "execution_count": null,
   "metadata": {
    "scrolled": true
   },
   "outputs": [],
   "source": [
    "vars = np.zeros(9)\n",
    "\n",
    "vars[0] = 0.0 #ball_runout\n",
    "vars[1] = 0.0 #ball_runout_angle\n",
    "vars[2] = 0.0 #radius\n",
    "vars[3] = 0.0 #spindle_centerline_offset\n",
    "vars[4] = 0.0 #x_offset\n",
    "vars[5] = 0.0 #y_home_offset\n",
    "vars[6] = 0.0 #z_home_offset\n",
    "vars[7] = 0.0 #c_home_offset\n",
    "vars[8] = 0.0 #spindle_ref_position\n",
    "\n",
    "ball_radius = ball_diameter/2 #we need the probe ball radius now, so we can determine the spindle referance position\n",
    "\n",
    "p, success, infodict,mesg,ier  = scipy.optimize.leastsq(arbor_and_spindle_face, vars, args=(arbor_data, arbor_data.shape[0], ball_radius), full_output=1)\n",
    "\n",
    "print(mesg)\n",
    "print(\"\\nsolver converged in \", infodict['nfev'], \" iterations\\n\")\n",
    "\n",
    "p_three_decimals = [\"%.3f\" % v for v in p]\n",
    "\n",
    "print('Results:')\n",
    "print('ball_runout \\t\\t\\t=\\t', p_three_decimals[0], \"mm\")\n",
    "print('ball_runout_angle \\t\\t=\\t', p_three_decimals[1], \"deg\")\n",
    "print('combined_radius \\t\\t=\\t', p_three_decimals[2], \"mm\")\n",
    "print('spindle_centerline_offset \\t=\\t', p_three_decimals[3], \"mm\")\n",
    "print('x_offset \\t\\t\\t=\\t', p_three_decimals[4], \"mm\")\n",
    "print('y_home_offset \\t\\t\\t=\\t', p_three_decimals[5], \"mm\")\n",
    "print('z_home_offset \\t\\t\\t=\\t', p_three_decimals[6], \"mm\")\n",
    "print('c_home_offset \\t\\t\\t=\\t', p_three_decimals[7], \"deg\")"
   ]
  },
  {
   "cell_type": "markdown",
   "metadata": {},
   "source": [
    "## Results"
   ]
  },
  {
   "cell_type": "markdown",
   "metadata": {},
   "source": [
    "Here we do some analysis on the result by plotting a histogram. \n",
    "\n",
    "This histogram and standard deviaton give an idea of how well the solution conforms to the data."
   ]
  },
  {
   "cell_type": "code",
   "execution_count": null,
   "metadata": {},
   "outputs": [],
   "source": [
    "%matplotlib notebook\n",
    "\n",
    "# best fit of data\n",
    "(mu, sigma) = norm.fit(infodict['fvec'])\n",
    "\n",
    "# the histogram of the data\n",
    "n, bins, patches = plt.hist(infodict['fvec'], 15, density=True)\n",
    "\n",
    "# add a 'best fit' line\n",
    "y = scipy.stats.norm.pdf( bins, mu, sigma)\n",
    "l = plt.plot(bins, y, 'r--', linewidth=2)\n",
    "\n",
    "plt.xlabel('Residual error (mm)')\n",
    "plt.ylabel('Number of points (normalised)')\n",
    "plt.title(r'$\\mathrm{Histogram\\ of\\ Residual\\ Errors:}\\ \\mu=%.3f,\\ \\sigma=%.3f$' %(mu, sigma))\n",
    "\n",
    "plt.show()"
   ]
  },
  {
   "cell_type": "markdown",
   "metadata": {},
   "source": [
    "We can also try and visualise how the error is distributed with a 3D plot."
   ]
  },
  {
   "cell_type": "code",
   "execution_count": null,
   "metadata": {},
   "outputs": [],
   "source": [
    "%matplotlib notebook\n",
    "from mpl_toolkits.mplot3d import Axes3D\n",
    "\n",
    "Axes3D = Axes3D  # pycharm auto import\n",
    "fig = plt.figure()\n",
    "\n",
    "ax = fig.add_subplot(111, projection='3d')\n",
    "\n",
    "# Normalised [0,1]\n",
    "fvec_normalised = (infodict['fvec'] - np.min(infodict['fvec']))/np.ptp(infodict['fvec'])\n",
    "\n",
    "ax.scatter3D(arbor_data[:,0], arbor_data[:,1], arbor_data[:,2], s = 20000*np.abs(infodict['fvec']), c = fvec_normalised, cmap = 'cool')\n",
    "\n",
    "ax.set_xlabel('X (mm)')\n",
    "ax.set_ylabel('Y (mm)')\n",
    "ax.set_zlabel('Z (mm)')"
   ]
  },
  {
   "cell_type": "markdown",
   "metadata": {},
   "source": [
    "Here the size of the point relates to the magnatude of the residual error, and the colour indicates positive or negative deviation of the radius measured at each point."
   ]
  },
  {
   "cell_type": "markdown",
   "metadata": {},
   "source": [
    "Now run a part program to probe the spindle front face. \n",
    "\n",
    "## First we need to remove the arbor!"
   ]
  },
  {
   "cell_type": "code",
   "execution_count": null,
   "metadata": {},
   "outputs": [],
   "source": [
    "from amcnc import program\n",
    "\n",
    "status = program.run(os.path.abspath(r'probe_spindle.pp'))"
   ]
  },
  {
   "cell_type": "code",
   "execution_count": null,
   "metadata": {},
   "outputs": [],
   "source": [
    "#read the measured spindle face probing data\n",
    "\n",
    "spindle_data = loadtxt('P:/TG7/misc/spindle_probing_data.txt')\n",
    "print(\"there are\", spindle_data.shape[0], \" spindle probe points\")\n",
    "\n",
    "num_arbor_pts = arbor_data.shape[0]\n",
    "\n",
    "print(\"there are\", num_arbor_pts, \" arbor probe points\")\n",
    "\n",
    "#concatinate the spindle data and the arbor data, creating the full data set\n",
    "\n",
    "full_data = np.concatenate((arbor_data, spindle_data), axis=0)\n",
    "\n",
    "print(\"there are\", full_data.shape[0], \" probe points total\")"
   ]
  },
  {
   "cell_type": "markdown",
   "metadata": {},
   "source": [
    "Now that we have a set of spindle face probing data we can include the **spindle_ref_position** in the solution."
   ]
  },
  {
   "cell_type": "code",
   "execution_count": null,
   "metadata": {},
   "outputs": [],
   "source": [
    "vars = np.zeros(9)\n",
    "\n",
    "vars[0] = 0.0 #ball_runout\n",
    "vars[1] = 0.0 #ball_runout_angle\n",
    "vars[2] = 0.0 #arbor_radius\n",
    "vars[3] = 0.0 #spindle_centerline_offset\n",
    "vars[4] = 0.0 #x_offset\n",
    "vars[5] = 0.0 #y_home_offset\n",
    "vars[6] = 0.0 #z_home_offset\n",
    "vars[7] = 0.0 #c_home_offset\n",
    "vars[8] = 0.0 #spindle_ref_position\n",
    "\n",
    "ball_radius = ball_diameter/2 #we need the probe ball radius now, so we can determine the spindle referance position\n",
    "\n",
    "p, success, infodict,mesg,ier  = scipy.optimize.leastsq(arbor_and_spindle_face, vars, args=(full_data, num_arbor_pts, ball_radius), full_output=1)\n",
    "\n",
    "print(mesg)\n",
    "print(\"\\nsolver converged in \", infodict['nfev'], \" iterations\\n\")\n",
    "\n",
    "p_three_decimals = [\"%.3f\" % v for v in p]\n",
    "\n",
    "print('Results:')\n",
    "print('ball_runout \\t\\t\\t=\\t', p_three_decimals[0], \"mm\")\n",
    "print('ball_runout_angle \\t\\t=\\t', p_three_decimals[1], \"deg\")\n",
    "print('arbor_radius \\t\\t\\t=\\t', p_three_decimals[2], \"mm\")\n",
    "print('spindle_centerline_offset \\t=\\t', p_three_decimals[3], \"mm\")\n",
    "print('x_offset \\t\\t\\t=\\t', p_three_decimals[4], \"mm\")\n",
    "print('y_home_offset \\t\\t\\t=\\t', p_three_decimals[5], \"mm\")\n",
    "print('z_home_offset \\t\\t\\t=\\t', p_three_decimals[6], \"mm\")\n",
    "print('c_home_offset \\t\\t\\t=\\t', p_three_decimals[7], \"deg\")\n",
    "print('spindle_ref_position \\t\\t=\\t', p_three_decimals[8], \"mm\")\n"
   ]
  },
  {
   "cell_type": "code",
   "execution_count": null,
   "metadata": {},
   "outputs": [],
   "source": [
    "%matplotlib notebook\n",
    "\n",
    "# best fit of data\n",
    "(mu, sigma) = norm.fit(infodict['fvec'])\n",
    "\n",
    "# the histogram of the data\n",
    "n, bins, patches = plt.hist(infodict['fvec'], 30, density=True)\n",
    "\n",
    "# add a 'best fit' line\n",
    "y = scipy.stats.norm.pdf( bins, mu, sigma)\n",
    "l = plt.plot(bins, y, 'r--', linewidth=2)\n",
    "\n",
    "plt.xlabel('Residual error (mm)')\n",
    "plt.ylabel('Number of points (normalised)')\n",
    "plt.title(r'$\\mathrm{Histogram\\ of\\ Residual\\ Errors:}\\ \\mu=%.3f,\\ \\sigma=%.3f$' %(mu, sigma))\n",
    "\n",
    "plt.show()"
   ]
  },
  {
   "cell_type": "code",
   "execution_count": null,
   "metadata": {},
   "outputs": [],
   "source": [
    "%matplotlib notebook\n",
    "from mpl_toolkits.mplot3d import Axes3D\n",
    "\n",
    "Axes3D = Axes3D  # pycharm auto import\n",
    "fig = plt.figure()\n",
    "\n",
    "ax = fig.add_subplot(111, projection='3d')\n",
    "\n",
    "# Normalised [0,1]\n",
    "fvec_normalised = (infodict['fvec'] - np.min(infodict['fvec']))/np.ptp(infodict['fvec'])\n",
    "\n",
    "ax.scatter3D(full_data[:,0], full_data[:,1], full_data[:,2], s = 20000*np.abs(infodict['fvec']), c = fvec_normalised, cmap = 'cool')\n",
    "\n",
    "ax.set_xlabel('X (mm)')\n",
    "ax.set_ylabel('Y (mm)')\n",
    "ax.set_zlabel('Z (mm)')"
   ]
  },
  {
   "cell_type": "markdown",
   "metadata": {},
   "source": [
    "## Save New Offsets to the Machine"
   ]
  },
  {
   "cell_type": "markdown",
   "metadata": {},
   "source": [
    "Now we can save the results to the machine.\n",
    "\n",
    "First copy the result to machine variables."
   ]
  },
  {
   "cell_type": "code",
   "execution_count": null,
   "metadata": {},
   "outputs": [],
   "source": [
    "from amcnc import variable\n",
    "ipf100 = variable.CncFloat('IPF100')\n",
    "ipf101 = variable.CncFloat('IPF101')\n",
    "ipf102 = variable.CncFloat('IPF102')\n",
    "ipf103 = variable.CncFloat('IPF103')\n",
    "ipf104 = variable.CncFloat('IPF104')\n",
    "ipf105 = variable.CncFloat('IPF105')\n",
    "ipf106 = variable.CncFloat('IPF106')\n",
    "ipf107 = variable.CncFloat('IPF107')\n",
    "ipf108 = variable.CncFloat('IPF108')\n",
    "ipf109 = variable.CncFloat('IPF109')\n",
    "\n",
    "ipf100.value = p[0] #ball_runout\n",
    "ipf101.value = p[1] #ball_runout_angle\n",
    "ipf102.value = p[2] #arbor_radius\n",
    "ipf103.value = p[3] #spindle_centerline_offset\n",
    "ipf104.value = p[4] #x_offset\n",
    "ipf105.value = p[5] #y_home_offset\n",
    "ipf106.value = p[6] #z_home_offset\n",
    "ipf107.value = p[7] #c_home_offset\n",
    "ipf108.value = p[8] #spindle_ref_position\n"
   ]
  },
  {
   "cell_type": "markdown",
   "metadata": {},
   "source": [
    "Now run a part program to review changes and save the new offsets to the database"
   ]
  },
  {
   "cell_type": "code",
   "execution_count": null,
   "metadata": {},
   "outputs": [],
   "source": [
    "from amcnc import program\n",
    "\n",
    "status = program.run(os.path.abspath(r'write_results.pp'))"
   ]
  },
  {
   "cell_type": "code",
   "execution_count": null,
   "metadata": {},
   "outputs": [],
   "source": []
  }
 ],
 "metadata": {
  "kernelspec": {
   "display_name": "Python 3",
   "language": "python",
   "name": "python3"
  },
  "language_info": {
   "codemirror_mode": {
    "name": "ipython",
    "version": 3
   },
   "file_extension": ".py",
   "mimetype": "text/x-python",
   "name": "python",
   "nbconvert_exporter": "python",
   "pygments_lexer": "ipython3",
   "version": "3.6.3"
  }
 },
 "nbformat": 4,
 "nbformat_minor": 2
}
